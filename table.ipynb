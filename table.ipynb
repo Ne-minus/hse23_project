{
 "cells": [
  {
   "cell_type": "code",
   "execution_count": 4,
   "metadata": {},
   "outputs": [],
   "source": [
    "import os\n",
    "import re\n",
    "import numpy as np\n",
    "import seaborn as sns\n",
    "import matplotlib.pyplot as plt"
   ]
  },
  {
   "cell_type": "code",
   "execution_count": 5,
   "metadata": {},
   "outputs": [],
   "source": [
    "list_sf = ['human.blast', 'mouse.blast', 'zebrafish.blast', 'drosophila.blast', 'c.elegans.blast', 'yeast.blast', 'ciliate.blast', 'methanocaldococcus.blast', 'thermococcus.blast', 'tuberculosis.blast', 'e.coli.blast']"
   ]
  },
  {
   "cell_type": "code",
   "execution_count": 6,
   "metadata": {},
   "outputs": [
    {
     "name": "stdout",
     "output_type": "stream",
     "text": [
      "{'human': 1e-300, 'mouse': 1e-300, 'zebrafish': 1e-300, 'drosophila': 1e-300, 'c.elegans': 3.89e-124, 'yeast': 6.35e-48, 'ciliate': 2.43e-18, 'methanocaldococcus': 3.15e-08, 'thermococcus': 0.004, 'tuberculosis': 0.35, 'e.coli': 0.000759}\n"
     ]
    }
   ],
   "source": [
    "e_values = {}\n",
    "for i in list_sf:\n",
    "    path = './blasts/' + i\n",
    "    with open(path, encoding  = 'utf-8') as f:\n",
    "        text = f.readlines()\n",
    "    for j in text:\n",
    "        value = 0\n",
    "        if j.startswith('NP_001387099.1'):\n",
    "            value = float(j.split('\\t')[-2])\n",
    "            if value < 1.0e-300:\n",
    "                value = 1.0e-300\n",
    "            name = re.sub(r'\\.blast', '', i)\n",
    "            e_values[name] = value\n",
    "            break\n",
    "print(e_values)"
   ]
  },
  {
   "cell_type": "code",
   "execution_count": 7,
   "metadata": {},
   "outputs": [
    {
     "data": {
      "text/html": [
       "<div>\n",
       "<style scoped>\n",
       "    .dataframe tbody tr th:only-of-type {\n",
       "        vertical-align: middle;\n",
       "    }\n",
       "\n",
       "    .dataframe tbody tr th {\n",
       "        vertical-align: top;\n",
       "    }\n",
       "\n",
       "    .dataframe thead th {\n",
       "        text-align: right;\n",
       "    }\n",
       "</style>\n",
       "<table border=\"1\" class=\"dataframe\">\n",
       "  <thead>\n",
       "    <tr style=\"text-align: right;\">\n",
       "      <th></th>\n",
       "      <th>human</th>\n",
       "      <th>mouse</th>\n",
       "      <th>zebrafish</th>\n",
       "      <th>drosophila</th>\n",
       "      <th>c.elegans</th>\n",
       "      <th>yeast</th>\n",
       "      <th>ciliate</th>\n",
       "      <th>methanocaldococcus</th>\n",
       "      <th>thermococcus</th>\n",
       "      <th>tuberculosis</th>\n",
       "      <th>e.coli</th>\n",
       "    </tr>\n",
       "  </thead>\n",
       "  <tbody>\n",
       "    <tr>\n",
       "      <th>0</th>\n",
       "      <td>1.000000e-300</td>\n",
       "      <td>1.000000e-300</td>\n",
       "      <td>1.000000e-300</td>\n",
       "      <td>1.000000e-300</td>\n",
       "      <td>3.890000e-124</td>\n",
       "      <td>6.350000e-48</td>\n",
       "      <td>2.430000e-18</td>\n",
       "      <td>3.150000e-08</td>\n",
       "      <td>0.004</td>\n",
       "      <td>0.35</td>\n",
       "      <td>0.000759</td>\n",
       "    </tr>\n",
       "  </tbody>\n",
       "</table>\n",
       "</div>"
      ],
      "text/plain": [
       "           human          mouse      zebrafish     drosophila      c.elegans  \\\n",
       "0  1.000000e-300  1.000000e-300  1.000000e-300  1.000000e-300  3.890000e-124   \n",
       "\n",
       "          yeast       ciliate  methanocaldococcus  thermococcus  tuberculosis  \\\n",
       "0  6.350000e-48  2.430000e-18        3.150000e-08         0.004          0.35   \n",
       "\n",
       "     e.coli  \n",
       "0  0.000759  "
      ]
     },
     "execution_count": 7,
     "metadata": {},
     "output_type": "execute_result"
    }
   ],
   "source": [
    "import pandas as pd\n",
    "\n",
    "df  = pd.DataFrame.from_dict(e_values, orient = 'index').T\n",
    "df"
   ]
  },
  {
   "cell_type": "code",
   "execution_count": 18,
   "metadata": {},
   "outputs": [],
   "source": [
    "for i in os.listdir('histones'):\n",
    "    with open(f'histones/{i}') as f:\n",
    "        text = f.readlines()\n",
    "    with open(i, 'w') as f1:\n",
    "        f1.write(''.join(text[0:3]))"
   ]
  },
  {
   "cell_type": "code",
   "execution_count": 8,
   "metadata": {},
   "outputs": [],
   "source": [
    "histones = ['H2A', 'H2B', 'H3', 'H4']\n",
    "values = {}\n",
    "for i in range(len(histones)):\n",
    "    #print(histones[i])\n",
    "    for j in list_sf:\n",
    "        path = f'hist_blast/{histones[i]}/{j}'\n",
    "        with open(path, encoding  = 'utf-8') as f:\n",
    "            text = f.readlines()\n",
    "        for f in text:\n",
    "            value = 0\n",
    "            if f.startswith('NP'):\n",
    "                #print(j)\n",
    "                value = float(f.split('\\t')[-2])\n",
    "                if value < 1.0e-300:\n",
    "                    value = 1.0e-300\n",
    "                name = re.sub(r'\\.blast', '', j)\n",
    "                values[name] = value\n",
    "                #print(name)\n",
    "                break\n",
    "    df.loc[len(df.index)] = values.values()"
   ]
  },
  {
   "cell_type": "code",
   "execution_count": 9,
   "metadata": {},
   "outputs": [
    {
     "name": "stdout",
     "output_type": "stream",
     "text": [
      "{'human': 1e-300, 'mouse': 1e-300, 'zebrafish': 1e-300, 'drosophila': 1e-300, 'c.elegans': 3.89e-124, 'yeast': 6.35e-48, 'ciliate': 2.43e-18, 'methanocaldococcus': 3.15e-08, 'thermococcus': 0.004, 'tuberculosis': 0.35, 'e.coli': 0.000759}\n"
     ]
    }
   ],
   "source": [
    "print(e_values)"
   ]
  },
  {
   "cell_type": "code",
   "execution_count": 10,
   "metadata": {},
   "outputs": [],
   "source": [
    "df['file'] = ['UTY', 'H2A', 'H2B', 'H3', 'H4']\n",
    "df = df.set_index('file')"
   ]
  },
  {
   "cell_type": "code",
   "execution_count": 72,
   "metadata": {},
   "outputs": [],
   "source": [
    "df.to_csv('no_log.csv')"
   ]
  },
  {
   "cell_type": "code",
   "execution_count": 11,
   "metadata": {},
   "outputs": [
    {
     "data": {
      "text/html": [
       "<div>\n",
       "<style scoped>\n",
       "    .dataframe tbody tr th:only-of-type {\n",
       "        vertical-align: middle;\n",
       "    }\n",
       "\n",
       "    .dataframe tbody tr th {\n",
       "        vertical-align: top;\n",
       "    }\n",
       "\n",
       "    .dataframe thead th {\n",
       "        text-align: right;\n",
       "    }\n",
       "</style>\n",
       "<table border=\"1\" class=\"dataframe\">\n",
       "  <thead>\n",
       "    <tr style=\"text-align: right;\">\n",
       "      <th></th>\n",
       "      <th>human</th>\n",
       "      <th>mouse</th>\n",
       "      <th>zebrafish</th>\n",
       "      <th>drosophila</th>\n",
       "      <th>c.elegans</th>\n",
       "      <th>yeast</th>\n",
       "      <th>ciliate</th>\n",
       "      <th>methanocaldococcus</th>\n",
       "      <th>thermococcus</th>\n",
       "      <th>tuberculosis</th>\n",
       "      <th>e.coli</th>\n",
       "    </tr>\n",
       "    <tr>\n",
       "      <th>file</th>\n",
       "      <th></th>\n",
       "      <th></th>\n",
       "      <th></th>\n",
       "      <th></th>\n",
       "      <th></th>\n",
       "      <th></th>\n",
       "      <th></th>\n",
       "      <th></th>\n",
       "      <th></th>\n",
       "      <th></th>\n",
       "      <th></th>\n",
       "    </tr>\n",
       "  </thead>\n",
       "  <tbody>\n",
       "    <tr>\n",
       "      <th>UTY</th>\n",
       "      <td>690.775528</td>\n",
       "      <td>690.775528</td>\n",
       "      <td>690.775528</td>\n",
       "      <td>690.775528</td>\n",
       "      <td>284.162142</td>\n",
       "      <td>108.675630</td>\n",
       "      <td>40.558640</td>\n",
       "      <td>17.273278</td>\n",
       "      <td>5.521461</td>\n",
       "      <td>1.049822</td>\n",
       "      <td>7.183509</td>\n",
       "    </tr>\n",
       "    <tr>\n",
       "      <th>H2A</th>\n",
       "      <td>207.937878</td>\n",
       "      <td>191.897635</td>\n",
       "      <td>186.451124</td>\n",
       "      <td>158.028220</td>\n",
       "      <td>152.396794</td>\n",
       "      <td>142.879059</td>\n",
       "      <td>130.351262</td>\n",
       "      <td>6.907755</td>\n",
       "      <td>1.897120</td>\n",
       "      <td>0.916291</td>\n",
       "      <td>-0.182322</td>\n",
       "    </tr>\n",
       "    <tr>\n",
       "      <th>H2B</th>\n",
       "      <td>199.277584</td>\n",
       "      <td>190.974801</td>\n",
       "      <td>162.868356</td>\n",
       "      <td>134.658598</td>\n",
       "      <td>148.004105</td>\n",
       "      <td>130.125673</td>\n",
       "      <td>112.179566</td>\n",
       "      <td>-0.955511</td>\n",
       "      <td>1.771957</td>\n",
       "      <td>-0.788457</td>\n",
       "      <td>-0.587787</td>\n",
       "    </tr>\n",
       "    <tr>\n",
       "      <th>H3</th>\n",
       "      <td>220.264267</td>\n",
       "      <td>220.616387</td>\n",
       "      <td>218.174604</td>\n",
       "      <td>218.808524</td>\n",
       "      <td>214.947850</td>\n",
       "      <td>199.127955</td>\n",
       "      <td>195.892897</td>\n",
       "      <td>3.381395</td>\n",
       "      <td>2.864704</td>\n",
       "      <td>-1.526056</td>\n",
       "      <td>0.105361</td>\n",
       "    </tr>\n",
       "    <tr>\n",
       "      <th>H4</th>\n",
       "      <td>154.187024</td>\n",
       "      <td>154.547638</td>\n",
       "      <td>156.453569</td>\n",
       "      <td>154.493848</td>\n",
       "      <td>154.759334</td>\n",
       "      <td>119.657464</td>\n",
       "      <td>102.943385</td>\n",
       "      <td>9.406355</td>\n",
       "      <td>10.315977</td>\n",
       "      <td>2.673649</td>\n",
       "      <td>-0.262364</td>\n",
       "    </tr>\n",
       "  </tbody>\n",
       "</table>\n",
       "</div>"
      ],
      "text/plain": [
       "           human       mouse   zebrafish  drosophila   c.elegans       yeast  \\\n",
       "file                                                                           \n",
       "UTY   690.775528  690.775528  690.775528  690.775528  284.162142  108.675630   \n",
       "H2A   207.937878  191.897635  186.451124  158.028220  152.396794  142.879059   \n",
       "H2B   199.277584  190.974801  162.868356  134.658598  148.004105  130.125673   \n",
       "H3    220.264267  220.616387  218.174604  218.808524  214.947850  199.127955   \n",
       "H4    154.187024  154.547638  156.453569  154.493848  154.759334  119.657464   \n",
       "\n",
       "         ciliate  methanocaldococcus  thermococcus  tuberculosis    e.coli  \n",
       "file                                                                        \n",
       "UTY    40.558640           17.273278      5.521461      1.049822  7.183509  \n",
       "H2A   130.351262            6.907755      1.897120      0.916291 -0.182322  \n",
       "H2B   112.179566           -0.955511      1.771957     -0.788457 -0.587787  \n",
       "H3    195.892897            3.381395      2.864704     -1.526056  0.105361  \n",
       "H4    102.943385            9.406355     10.315977      2.673649 -0.262364  "
      ]
     },
     "execution_count": 11,
     "metadata": {},
     "output_type": "execute_result"
    }
   ],
   "source": [
    "df.applymap(lambda x: -np.log(x)).to_csv('log.csv')\n",
    "df = df.applymap(lambda x: -np.log(x))\n",
    "df"
   ]
  },
  {
   "cell_type": "code",
   "execution_count": 29,
   "metadata": {},
   "outputs": [
    {
     "data": {
      "image/png": "[encoded data removed]",
      "text/plain": [
       "<Figure size 1500x700 with 2 Axes>"
      ]
     },
     "metadata": {},
     "output_type": "display_data"
    }
   ],
   "source": [
    "plt.figure(figsize=(15,7))\n",
    "sns.heatmap(df, vmax=400, cmap='mako')\n",
    "plt.xticks(rotation=20)\n",
    "\n",
    "plt.savefig('heatmap.png')\n",
    "plt.show()\n"
   ]
  },
  {
   "cell_type": "code",
   "execution_count": null,
   "metadata": {},
   "outputs": [],
   "source": []
  }
 ],
 "metadata": {
  "kernelspec": {
   "display_name": ".venv",
   "language": "python",
   "name": "python3"
  },
  "language_info": {
   "codemirror_mode": {
    "name": "ipython",
    "version": 3
   },
   "file_extension": ".py",
   "mimetype": "text/x-python",
   "name": "python",
   "nbconvert_exporter": "python",
   "pygments_lexer": "ipython3",
   "version": "3.10.6"
  },
  "orig_nbformat": 4
 },
 "nbformat": 4,
 "nbformat_minor": 2
}
